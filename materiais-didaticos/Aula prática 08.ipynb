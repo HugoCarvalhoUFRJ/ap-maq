{
 "cells": [
  {
   "cell_type": "markdown",
   "id": "32ccee3b",
   "metadata": {
    "id": "32ccee3b"
   },
   "source": [
    "# Aprendizagem de Máquina I\n",
    "\n",
    "## Hugo Tremonte de Carvalho\n",
    "\n",
    "#### hugo@dme.ufrj.br"
   ]
  },
  {
   "cell_type": "markdown",
   "id": "086153f5",
   "metadata": {},
   "source": [
    "O objetivo dessa atividade é trabalhar o SVM com dados artificiais. Vamos lá!"
   ]
  },
  {
   "cell_type": "code",
   "execution_count": 1,
   "id": "5e523d73",
   "metadata": {
    "id": "5e523d73"
   },
   "outputs": [],
   "source": [
    "import numpy as np\n",
    "import matplotlib.pyplot as plt\n",
    "import pandas as pd\n",
    "\n",
    "from sklearn.svm import SVC\n",
    "\n",
    "from sklearn.model_selection import train_test_split, GridSearchCV\n",
    "from sklearn import metrics\n",
    "from sklearn.datasets import make_moons, make_circles, make_blobs"
   ]
  },
  {
   "cell_type": "markdown",
   "id": "336d091c",
   "metadata": {},
   "source": [
    "A função abaixo faz um gráfico e mostra diversos sumários numéricos referentes a um SVM:"
   ]
  },
  {
   "cell_type": "code",
   "execution_count": 2,
   "id": "af68362d",
   "metadata": {
    "id": "af68362d"
   },
   "outputs": [],
   "source": [
    "########## PLOT SVC ##########\n",
    "# FONTE: https://github.com/JWarmenhoven/ISLR-python/blob/master/Notebooks/Chapter%209.ipynb (com modificações)\n",
    "\n",
    "def plot_svc(svc, X_train, y_train, X_test, y_test, h=0.02, pad=0.25, plot_sv = True, gridsearch = False):\n",
    "    # Make grid\n",
    "    x_min, x_max = X_train[:, 0].min()-pad, X_train[:, 0].max()+pad\n",
    "    y_min, y_max = X_train[:, 1].min()-pad, X_train[:, 1].max()+pad\n",
    "    xx, yy = np.meshgrid(np.arange(x_min, x_max, h), np.arange(y_min, y_max, h))\n",
    "    Z = svc.predict(np.c_[xx.ravel(), yy.ravel()])\n",
    "    Z = Z.reshape(xx.shape)\n",
    "\n",
    "    # Plot train\n",
    "    fig, (ax1, ax2) = plt.subplots(1, 2)\n",
    "    fig.set_size_inches(12, 5)\n",
    "    ax1.contourf(xx, yy, Z, cmap=plt.cm.Paired, alpha=0.2)\n",
    "    ax1.scatter(X_train[:,0], X_train[:,1], s=70, c=y_train, cmap=plt.cm.Paired)\n",
    "    ax1.set_title('Train set')\n",
    "    \n",
    "    # Support vectors indicated in plot by +\n",
    "    if plot_sv:\n",
    "        if gridsearch:\n",
    "            sv = svc.best_estimator_.support_vectors_\n",
    "            ax1.scatter(sv[:,0], sv[:,1], c='k', marker='+', s=70, linewidths=1)\n",
    "        else:\n",
    "            sv = svc.support_vectors_\n",
    "            ax1.scatter(sv[:,0], sv[:,1], c='k', marker='+', s=70, linewidths=1)\n",
    "\n",
    "    ax1.set_xlim(x_min, x_max)\n",
    "    ax1.set_ylim(y_min, y_max)\n",
    "    ax1.set_xlabel('X1')\n",
    "    ax1.set_ylabel('X2')\n",
    "\n",
    "    # Plot test\n",
    "    ax2.contourf(xx, yy, Z, cmap=plt.cm.Paired, alpha=0.2)\n",
    "    ax2.scatter(X_test[:,0], X_test[:,1], s=70, c=y_test, cmap=plt.cm.Paired)\n",
    "    ax2.set_title('Test set')\n",
    "\n",
    "    ax2.set_xlim(x_min, x_max)\n",
    "    ax2.set_ylim(y_min, y_max)\n",
    "    ax2.set_xlabel('X1')\n",
    "    ax2.set_ylabel('X2')\n",
    "    \n",
    "    plt.show()\n",
    "\n",
    "    print('==== MÉTRICAS ====')\n",
    "    if gridsearch:\n",
    "        print('Quantidade de vetores-suporte: ', svc.best_estimator_.support_.size)\n",
    "    else:\n",
    "        print('Quantidade de vetores-suporte: ', svc.support_.size)\n",
    "\n",
    "    CM = metrics.confusion_matrix(y_test, svc.predict(X_test))\n",
    "\n",
    "    ConfusionMatrixMetrics(CM).print()\n",
    "##############################\n",
    "\n",
    "########## PRETTY MATRIX DISPLAY ##########\n",
    "# Source: https://gist.github.com/braingineer/d801735dac07ff3ac4d746e1f218ab75\n",
    "def matprint(mat, fmt=\"g\", round_dig = 0):\n",
    "    col_maxes = [max([len((\"{:\"+fmt+\"}\").format(x)) for x in col]) for col in mat.T]\n",
    "    for x in mat:\n",
    "        for i, y in enumerate(x):\n",
    "            if round_dig == 0:\n",
    "                print((\"{:\"+str(col_maxes[i])+fmt+\"}\").format(y), end=\"  \")\n",
    "            else:\n",
    "                print((\"{:\"+str(col_maxes[i])+fmt+\"}\").format(round(y, round_dig)), end=\"  \")\n",
    "        print(\"\")\n",
    "###########################################\n",
    "\n",
    "########## CONFUSION MATRIX METRICS ##########\n",
    "class ConfusionMatrixMetrics:\n",
    "    def __init__(self, matrix):\n",
    "        \"\"\"\n",
    "        Inicializa a classe com uma matriz de confusão 2x2.\n",
    "        A matriz deve estar no formato:\n",
    "        [[VN, FP],\n",
    "         [FN, VP]]\n",
    "        onde:\n",
    "        - VP: Verdadeiros Positivos\n",
    "        - FP: Falsos Positivos\n",
    "        - FN: Falsos Negativos\n",
    "        - VN: Verdadeiros Negativos\n",
    "        \"\"\"\n",
    "        self.matrix = matrix\n",
    "\n",
    "        self.VN = self.matrix[0][0]\n",
    "        self.FP = self.matrix[0][1]\n",
    "        self.FN = self.matrix[1][0]\n",
    "        self.VP = self.matrix[1][1]\n",
    "\n",
    "        self.N = self.matrix[0][0] + self.matrix[0][1]\n",
    "        self.P = self.matrix[1][0] + self.matrix[1][1]\n",
    "\n",
    "        self.Pop = self.N + self.P\n",
    "    \n",
    "    def prev(self):\n",
    "        \"\"\"Calcula a prevalência da classe positiva\"\"\"\n",
    "        try:\n",
    "            return (self.P)/(self.Pop)\n",
    "        except ZeroDivisionError:\n",
    "            return 0.0\n",
    "    \n",
    "    def acc(self):\n",
    "        \"\"\"Calcula a acurária\"\"\"\n",
    "        try:\n",
    "            return (self.VN + self.VP)/self.Pop\n",
    "        except ZeroDivisionError:\n",
    "            return 0.0\n",
    "\n",
    "    def FPR(self):\n",
    "        \"\"\"Calcula a FPR\"\"\"\n",
    "        try:\n",
    "            return self.FP/self.N\n",
    "        except ZeroDivisionError:\n",
    "            return 0.0\n",
    "\n",
    "    def TNR(self):\n",
    "        \"\"\"Calcula a TNR\"\"\"\n",
    "        try:\n",
    "            return self.VN/self.N\n",
    "        except ZeroDivisionError:\n",
    "            return 0.0\n",
    "\n",
    "    def TPR(self):\n",
    "        \"\"\"Calcula a TPR\"\"\"\n",
    "        try:\n",
    "            return self.VP/self.P\n",
    "        except ZeroDivisionError:\n",
    "            return 0.0\n",
    "    \n",
    "    def FNR(self):\n",
    "        \"\"\"Calcula a FNR\"\"\"\n",
    "        try:\n",
    "            return self.FN/self.P\n",
    "        except ZeroDivisionError:\n",
    "            return 0.0\n",
    "        \n",
    "    def FOR(self):\n",
    "        \"\"\"Calcula a FOR\"\"\"\n",
    "        try:\n",
    "            return self.FN/(self.VN + self.FN)\n",
    "        except ZeroDivisionError:\n",
    "            return 0.0\n",
    "\n",
    "    def PPV(self):\n",
    "        \"\"\"Calcula o PPV\"\"\"\n",
    "        try:\n",
    "            return self.VP/(self.FP + self.VP)\n",
    "        except ZeroDivisionError:\n",
    "            return 0.0\n",
    "\n",
    "    def NPV(self):\n",
    "        \"\"\"Calcula a NPV\"\"\"\n",
    "        try:\n",
    "            return self.VN/(self.VN + self.FN)\n",
    "        except ZeroDivisionError:\n",
    "            return 0.0\n",
    "\n",
    "    def FDR(self):\n",
    "        \"\"\"Calcula a FDR\"\"\"\n",
    "        try:\n",
    "            return self.FP/(self.FP + self.VP)\n",
    "        except ZeroDivisionError:\n",
    "            return 0.0\n",
    "\n",
    "    def F1(self):\n",
    "        \"\"\"Calcula a F1\"\"\"\n",
    "        try:\n",
    "            return 2/(1/self.PPV() + 1/self.TPR())\n",
    "        except ZeroDivisionError:\n",
    "            return np.NaN\n",
    "    \n",
    "    def print(self):\n",
    "        \"\"\"Mostra todas as métricas calculadas acima\"\"\"\n",
    "        print('Matriz de confusão:')\n",
    "        matprint(self.matrix)\n",
    "\n",
    "        print('\\n')\n",
    "\n",
    "        print('Prevalência:', np.round(self.prev(), 3))\n",
    "        print('Acurácia:', np.round(self.acc(), 3))\n",
    "\n",
    "        print('\\n')\n",
    "\n",
    "        print('Taxa de falsos positivos:', np.round(self.FPR(), 3))\n",
    "        print('Taxa de verdadeiros negativos (Especificidade):',np.round(self.TNR(), 3))\n",
    "        print('Taxa de verdadeiros positivos (Recall):', np.round(self.TPR(), 3))\n",
    "        print('Taxa de falsos negativos:', np.round(self.FNR(), 3))\n",
    "\n",
    "        print('\\n')\n",
    "\n",
    "        print('False omission rate:', np.round(self.FOR(), 3))\n",
    "        print('Valor preditivo positivo (Precisão):', np.round(self.PPV(), 3))\n",
    "        print('Valor preditivo negativo:', np.round(self.NPV(), 3))\n",
    "        print('False discovery rate:', np.round(self.FDR(), 3))\n",
    "\n",
    "        print('\\n')\n",
    "\n",
    "        print('F1 Score:', np.round(self.F1(), 3))\n",
    "    ##############################################"
   ]
  },
  {
   "cell_type": "markdown",
   "metadata": {},
   "source": [
    "a) Gere um conjunto de dados linearmente separável e teste o `SVC` com `kernel = 'linear'` e diversos valores do hiperparâmetro $C$. Estude detalhadamente a [documentação da função `SVC`](https://scikit-learn.org/stable/modules/generated/sklearn.svm.SVC.html). Relacione com o que vimos em sala de aula. Valide o seu resultado no conjunto de teste."
   ]
  },
  {
   "cell_type": "code",
   "execution_count": null,
   "metadata": {},
   "outputs": [],
   "source": [
    "X, y = make_blobs(n_samples = 500, centers = 2, n_features = 2, center_box=(0, 10))\n",
    "\n",
    "X_train, X_test, y_train, y_test = train_test_split(X, y, test_size = 0.3)\n",
    "\n",
    "plt.scatter(*X_train.T, c = y_train, alpha = 1, cmap = plt.cm.Paired)\n",
    "plt.scatter(*X_test.T, c = y_test, alpha = 0.5, cmap = plt.cm.Paired)\n",
    "\n",
    "plt.show()"
   ]
  },
  {
   "cell_type": "code",
   "execution_count": null,
   "metadata": {},
   "outputs": [],
   "source": [
    "svm_lin = SVC(kernel = 'linear', C = 10)\n",
    "svm_lin.fit(X_train, y_train)\n",
    "\n",
    "plot_svc(svm_lin, X_train, y_train, X_test, y_test)"
   ]
  },
  {
   "cell_type": "markdown",
   "metadata": {},
   "source": [
    "b) Escolha algum dos conjuntos de dados artificiais abaixo para continuar sua análise"
   ]
  },
  {
   "cell_type": "code",
   "execution_count": null,
   "id": "ec1cc829",
   "metadata": {
    "id": "ec1cc829",
    "outputId": "5a855fb5-22e0-4d99-f08e-104ea74ab430",
    "scrolled": true
   },
   "outputs": [],
   "source": [
    "# https://scikit-learn.org/stable/modules/generated/sklearn.datasets.make_moons.html\n",
    "\n",
    "X, y = make_moons(n_samples = 500, noise = 0.3)\n",
    "\n",
    "X_train, X_test, y_train, y_test = train_test_split(X, y, test_size = 0.3)\n",
    "\n",
    "plt.scatter(*X_train.T, c = y_train, alpha = 1, cmap = plt.cm.Paired)\n",
    "plt.scatter(*X_test.T, c = y_test, alpha = 0.5, cmap = plt.cm.Paired)\n",
    "\n",
    "plt.show()"
   ]
  },
  {
   "cell_type": "code",
   "execution_count": null,
   "metadata": {},
   "outputs": [],
   "source": [
    "# https://scikit-learn.org/stable/modules/generated/sklearn.datasets.make_circles.html\n",
    "\n",
    "X, y = make_circles(n_samples = 500, noise = 0.25, factor = 0.15)\n",
    "\n",
    "X_train, X_test, y_train, y_test = train_test_split(X, y, test_size = 0.3)\n",
    "\n",
    "plt.scatter(*X_train.T, c = y_train, alpha = 1, cmap = plt.cm.Paired)\n",
    "plt.scatter(*X_test.T, c = y_test, alpha = 0.5, cmap = plt.cm.Paired)\n",
    "\n",
    "plt.show()"
   ]
  },
  {
   "cell_type": "markdown",
   "id": "6dd3bfd7",
   "metadata": {
    "id": "6dd3bfd7"
   },
   "source": [
    "c) No conjunto de dados que você escolheu acima teste o `SVC` com `kernel = 'linear'` e diversos valores do(s) seu(s) hiperparâmetro(s). Estude a documentação para entender do que se tratam tal(is) hiperparâmetro(s)."
   ]
  },
  {
   "cell_type": "markdown",
   "metadata": {},
   "source": [
    "d) No conjunto de dados que você escolheu acima teste o `SVC` com `kernel = 'poly'` e diversos valores do(s) seu(s) hiperparâmetro(s). Estude a documentação para entender do que se tratam tal(is) hiperparâmetro(s)."
   ]
  },
  {
   "cell_type": "markdown",
   "metadata": {},
   "source": [
    "e) No conjunto de dados que você escolheu acima teste o `SVC` com `kernel = 'rbf'` e diversos valores do(s) seu(s) hiperparâmetro(s). Estude a documentação para entender do que se tratam tal(is) hiperparâmetro(s)."
   ]
  },
  {
   "cell_type": "markdown",
   "metadata": {},
   "source": [
    "f) Escolha um dos _kernel_ acima e encontre o melhor conjunto de hiperparâmetro(s) utilizando validação cruzada. Valide o seu resultado no conjunto de teste."
   ]
  }
 ],
 "metadata": {
  "colab": {
   "provenance": []
  },
  "kernelspec": {
   "display_name": "base",
   "language": "python",
   "name": "python3"
  },
  "language_info": {
   "codemirror_mode": {
    "name": "ipython",
    "version": 3
   },
   "file_extension": ".py",
   "mimetype": "text/x-python",
   "name": "python",
   "nbconvert_exporter": "python",
   "pygments_lexer": "ipython3",
   "version": "3.11.7"
  }
 },
 "nbformat": 4,
 "nbformat_minor": 5
}
