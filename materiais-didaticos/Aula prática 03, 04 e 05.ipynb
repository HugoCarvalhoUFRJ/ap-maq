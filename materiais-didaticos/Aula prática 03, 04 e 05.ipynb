{
 "cells": [
  {
   "cell_type": "markdown",
   "metadata": {},
   "source": [
    "# Aprendizagem de Máquina I\n",
    "\n",
    "## Hugo Tremonte de Carvalho\n",
    "\n",
    "#### hugo@dme.ufrj.br"
   ]
  },
  {
   "cell_type": "markdown",
   "metadata": {},
   "source": [
    "O objetivo dessa atividade é resolver um problema de regressão linear em uma base de dados real. Mais especificamente, o objetivo é trabalhar sobre [esta base do Kaggle](https://www.kaggle.com/datasets/yasserh/song-popularity-dataset/), que relaciona a popularidade de uma música com certos atributos extraídos da mesma. Dessa forma, queremos ser capazes de prever se uma determinada música será ou não popular com base em determinadas informações acústicas e informações musicais.\n",
    "\n",
    "Esse conjunto de dados consiste de $n = 18.835$ observações e um total de $p = 13$ atributos. Note que ainda não estamos em um cenário tão desfavorável de modo que tenhamos $p \\approx n$. A popularidade da música, representada na coluna de nome `song_popularity`, é um número inteiro medido entre $0$ e $100$, e é tal quantidade que deve ser prevista por você com base nos $p = 13$ atributos. Abaixo seguem os atributos que são quantitativos:\n",
    "* `song_duration_ms`\n",
    "* `acousticness`\n",
    "* `danceability`\n",
    "* `energy`\n",
    "* `instrumentalness`\n",
    "* `liveness`\n",
    "* `loudness`\n",
    "* `speechiness`\n",
    "* `audio_valence`\n",
    "\n",
    "e esses são os atributos qualitativos (**não** há uma relação de ordem entre os valores que elas assumem; usá-las ingenuamente em um problema de regressão linear é uma falha grave):\n",
    "* Tonalidade da música (`key`)\n",
    "* Se a música está em modo maior ou modo menor (`audio_mode`)\n",
    "* Fórmula de compasso da música (`time_signature`).\n",
    "\n",
    "Sobre a interpretação e aquisição dos atributos, todos os que estamos mantendo são bastante fáceis de serem calculados a partir de um arquivo `.mp3` contendo uma música. A interpretação deles é algo bem próximo do que o próprio nome sugere (a bruxaria está em *como* essas contas são feitas!). Veja [aqui](https://www.kaggle.com/datasets/yasserh/song-popularity-dataset/discussion/331001) mais detalhes sobre os atributos.\n",
    "\n",
    "Portanto, a nossa missão para esta atividade é utilizar as técnicas de regressão que estudamos até o momento para encontrar uma boa forma de prever a variável resposta a partir dos atributos. Para isso, siga o roteiro abaixo:\n",
    "* Faça uma análise exploratória para entneder como os seus atributos se comportam, se há multicolinearidade, se algum deles é bastante correlacionado com a resposta, etc.\n",
    "* Note que alguns atributos têm uma ordem de grandeza bem discrepante, o que pode ser numericamente problemático. Iremos tratar disso na terceira parte dessa aula.\n",
    "* Separe o seu conjunto de dados em treinamento e teste\n",
    "* Faça ajustes dos modelos de regressão que aprendemos, implementando alguma busca por validação cruzada no conjunto de treinamento para encontrar hiperparâmetros ótimos, quando for pertinente.\n",
    "* Avalie o desempenho do seu modelo no conjunto de teste, e reporte os seus resultados."
   ]
  },
  {
   "cell_type": "code",
   "execution_count": null,
   "metadata": {},
   "outputs": [],
   "source": [
    "import numpy as np\n",
    "import pandas as pd\n",
    "import matplotlib.pyplot as plt\n",
    "import seaborn as sns\n",
    "\n",
    "from sklearn.linear_model import LinearRegression, Ridge, Lasso, ElasticNet\n",
    "\n",
    "from sklearn.preprocessing import StandardScaler\n",
    "from sklearn.compose import ColumnTransformer\n",
    "from sklearn.model_selection import train_test_split, GridSearchCV\n",
    "from sklearn.pipeline import Pipeline\n",
    "from sklearn.metrics import mean_squared_error as MSE\n",
    "from sklearn.metrics import mean_absolute_error as MAE\n",
    "from sklearn.metrics import r2_score as r2\n",
    "\n",
    "from sklearn.neighbors import KNeighborsRegressor\n",
    "from sklearn.ensemble import RandomForestRegressor"
   ]
  },
  {
   "cell_type": "markdown",
   "metadata": {},
   "source": [
    "## Leitura dos dados e análise exploratória"
   ]
  },
  {
   "cell_type": "code",
   "execution_count": null,
   "metadata": {},
   "outputs": [],
   "source": [
    "df = pd.read_csv(\"song_data.csv\")\n",
    "print(df.shape)\n",
    "df.head()"
   ]
  },
  {
   "cell_type": "code",
   "execution_count": null,
   "metadata": {},
   "outputs": [],
   "source": [
    "# Verificando se há dados faltantes\n",
    "# df.isnull()\n",
    "df.isnull().sum()"
   ]
  },
  {
   "cell_type": "code",
   "execution_count": null,
   "metadata": {},
   "outputs": [],
   "source": [
    "# Verificando se há linhas duplicadas\n",
    "# df.duplicated()\n",
    "df.duplicated().sum()"
   ]
  },
  {
   "cell_type": "code",
   "execution_count": null,
   "metadata": {},
   "outputs": [],
   "source": [
    "# Removendo linhas duplicadas\n",
    "# https://pandas.pydata.org/pandas-docs/stable/reference/api/pandas.DataFrame.drop_duplicates.html\n",
    "# ATENÇÃO: ESTAMOS SOBRESCREVENDO A VARIÁVEI df\n",
    "df = df.drop_duplicates()\n",
    "print(df.shape)"
   ]
  },
  {
   "cell_type": "code",
   "execution_count": null,
   "metadata": {},
   "outputs": [],
   "source": [
    "# Estudando as colunas categóricas\n",
    "print('Elementos em \\'key\\': ', df['key'].unique())\n",
    "print('Elementos em \\'audio_mode\\': ', df['audio_mode'].unique())\n",
    "print('Elementos em \\'time_signature\\': ', df['time_signature'].unique())"
   ]
  },
  {
   "cell_type": "code",
   "execution_count": null,
   "metadata": {},
   "outputs": [],
   "source": [
    "# Remapeando as colunas categóricas\n",
    "df['key'].replace({0: 'C', 1: 'C#/Db', 2: 'D', 3: 'D#/Eb', 4: 'E', 5: 'F', 6: 'F#/Gb', 7: 'G', 8: 'G#/Ab', 9: 'A', 10: 'A#/Bb', 11: 'B'}, inplace = True)\n",
    "df['audio_mode'].replace({0: 'minor', 1: 'major'}, inplace = True)\n",
    "df['time_signature'].replace({3: '3/4', 4: '4/4', 5: '5/4', 0: '0?', 1: '1?'}, inplace = True)"
   ]
  },
  {
   "cell_type": "code",
   "execution_count": null,
   "metadata": {},
   "outputs": [],
   "source": [
    "# Vendo se está tudo em ordem\n",
    "df"
   ]
  },
  {
   "cell_type": "code",
   "execution_count": null,
   "metadata": {},
   "outputs": [],
   "source": [
    "# Dando nome a algumas features\n",
    "# feat_quant = ['song_duration_ms', 'acousticness', 'danceability', 'energy', 'instrumentalness', 'liveness', 'loudness', 'speechiness', 'tempo', 'audio_valence']\n",
    "feat_quant = ['acousticness', 'danceability', 'energy', 'instrumentalness', 'liveness', 'loudness', 'speechiness', 'tempo', 'audio_valence']\n",
    "feat_quali = ['key', 'audio_mode', 'time_signature']"
   ]
  },
  {
   "cell_type": "code",
   "execution_count": null,
   "metadata": {},
   "outputs": [],
   "source": [
    "# Correlação LINEAR entre os atributos e a resposta?\n",
    "plt.figure(figsize=(10, 10))\n",
    "mask = np.triu(np.ones_like(df[[*feat_quant, 'song_popularity']].corr(), dtype=bool))\n",
    "sns.heatmap(df[[*feat_quant, 'song_popularity']].corr(method = 'pearson'), annot=True, mask=mask, vmin=-1, vmax=1, cmap = \"vlag\")\n",
    "plt.title('Correlações LINEARES entre os atributos e a resposta')\n",
    "plt.show()"
   ]
  },
  {
   "cell_type": "code",
   "execution_count": null,
   "metadata": {},
   "outputs": [],
   "source": [
    "# Correlação MAIS GERAL entre os atributos?\n",
    "# https://en.wikipedia.org/wiki/Spearman%27s_rank_correlation_coefficient\n",
    "plt.figure(figsize=(10, 10))\n",
    "mask = np.triu(np.ones_like(df[[*feat_quant, 'song_popularity']].corr(), dtype=bool))\n",
    "sns.heatmap(df[[*feat_quant, 'song_popularity']].corr(method = 'spearman'), annot=True, mask=mask, vmin=-1, vmax=1, cmap = \"vlag\")\n",
    "plt.title('Correlações MAIS GERAIS entre os atributos')\n",
    "plt.show()"
   ]
  },
  {
   "cell_type": "code",
   "execution_count": null,
   "metadata": {},
   "outputs": [],
   "source": [
    "# Enxergando pares de covariáveis\n",
    "g = sns.pairplot(df[[*feat_quant, 'song_popularity']])\n",
    "plt.title('Gráfico de dispersão em pares')\n",
    "# g.map_upper(sns.kdeplot, levels=4, color=\".2\")\n",
    "plt.show()"
   ]
  },
  {
   "cell_type": "code",
   "execution_count": null,
   "metadata": {},
   "outputs": [],
   "source": [
    "# Relação entre atributos qualitativos e a resposta\n",
    "plt.figure(figsize=(10, 5))\n",
    "sns.scatterplot(data=df, x=df['key'], y='song_popularity', hue='song_popularity', legend = False)\n",
    "plt.show()"
   ]
  },
  {
   "cell_type": "code",
   "execution_count": null,
   "metadata": {},
   "outputs": [],
   "source": [
    "# Relação entre atributos qualitativos e a resposta\n",
    "plt.figure(figsize=(3, 5))\n",
    "sns.scatterplot(data=df, x=df['audio_mode'], y='song_popularity', hue='song_popularity', legend = False)\n",
    "plt.show()"
   ]
  },
  {
   "cell_type": "code",
   "execution_count": null,
   "metadata": {},
   "outputs": [],
   "source": [
    "# Relação entre atributos qualitativos e a resposta\n",
    "plt.figure(figsize=(10, 5))\n",
    "sns.scatterplot(data=df, x=df['time_signature'], y='song_popularity', hue='song_popularity', legend = False)\n",
    "plt.show()"
   ]
  },
  {
   "cell_type": "markdown",
   "metadata": {},
   "source": [
    "## Parte 1"
   ]
  },
  {
   "cell_type": "markdown",
   "metadata": {},
   "source": [
    "a) Valide o desempenho de modelos de regressão linear e KNN, usando como atributos somente as variáveis quantitativas. Mais especificamente, use o conjunto de teste para treinar modelos de regressão linear com e sem penalização (encontrando hiperparâmetros ótimos por validação cruzada) e um modelo de KNN (também encontrando hiperparâmetros ótimos por validação cruzada), e meça o seu desempenho no conjunto de teste."
   ]
  },
  {
   "cell_type": "markdown",
   "metadata": {},
   "source": [
    "## Parte 2"
   ]
  },
  {
   "cell_type": "markdown",
   "metadata": {},
   "source": [
    "b) Valide o desempenho de modelos de regressão baseados em árvores, usando como atributos somente as variáveis quantitativas. Mais especificamente, use o conjunto de teste para treinar modelos de regressão baseados em árvores (encontrando hiperparâmetros ótimos por validação cruzada) e meça o seu desempenho no conjunto de teste."
   ]
  },
  {
   "cell_type": "markdown",
   "metadata": {},
   "source": [
    "## Parte 3"
   ]
  },
  {
   "cell_type": "markdown",
   "metadata": {},
   "source": [
    "c) Refaça os itens a) e b), utilizando uma `Pipeline` para acoplar um `StandardScaler` a cada um dos modelos de regressão empregados."
   ]
  },
  {
   "cell_type": "markdown",
   "metadata": {},
   "source": [
    "d) Decida por um \"melhor\" modelo para prever a popularidade de uma música com base nos seus atributos acústicos, e justifique a sua escolha."
   ]
  }
 ],
 "metadata": {
  "kernelspec": {
   "display_name": "base",
   "language": "python",
   "name": "python3"
  },
  "language_info": {
   "codemirror_mode": {
    "name": "ipython",
    "version": 3
   },
   "file_extension": ".py",
   "mimetype": "text/x-python",
   "name": "python",
   "nbconvert_exporter": "python",
   "pygments_lexer": "ipython3",
   "version": "3.11.5"
  }
 },
 "nbformat": 4,
 "nbformat_minor": 2
}
