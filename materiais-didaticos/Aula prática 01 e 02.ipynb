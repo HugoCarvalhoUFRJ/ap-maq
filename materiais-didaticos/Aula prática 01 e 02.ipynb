{
  "cells": [
    {
      "cell_type": "markdown",
      "metadata": {
        "id": "2YxFq78bAXHc"
      },
      "source": [
        "# Aprendizagem de Máquina I\n",
        "\n",
        "## Hugo Tremonte de Carvalho\n",
        "\n",
        "#### hugo@dme.ufrj.br"
      ]
    },
    {
      "cell_type": "markdown",
      "metadata": {
        "id": "SCuB_uCkFqd1"
      },
      "source": [
        "Esta aula é inspirada no Ex. 10 do Cap. 6 de [ITSL], e tem como objetivo estudar, em dados sintéticos, o comportamento dos procedimentos de seleção de modelos que vimos em sala (Lasso, Ridge e Elastic Net)."
      ]
    },
    {
      "cell_type": "markdown",
      "metadata": {},
      "source": [
        "## Parte 1"
      ]
    },
    {
      "cell_type": "markdown",
      "metadata": {
        "id": "4oeRHuJBGMXj"
      },
      "source": [
        "a) Gere um conjunto de dados $\\mathbf{X}$ com $p = 20$ atributos e $n = 1.000$ observações. Após isso, gere um vetor de variáveis respostas de acordo com a equação $$\\mathbf{Y} = \\mathbf{X}\\boldsymbol{\\beta} + \\varepsilon,$$ onde o vetor $\\boldsymbol{\\beta}$ contém a maioria das entradas iguais a zero."
      ]
    },
    {
      "cell_type": "markdown",
      "metadata": {
        "id": "cebFZgnhKNFI"
      },
      "source": [
        "b) Divida seu conjunto em treinamento e teste, com proporção de 90% e 10%, respectivamente."
      ]
    },
    {
      "cell_type": "markdown",
      "metadata": {
        "id": "FFOqVMJwL3Xf"
      },
      "source": [
        "c) Estude o *help* das funções `LinearRegression`, `Lasso`, `Ridge` e `ElasticNet` do `scikit-learn`.\n",
        "\n",
        "https://scikit-learn.org/stable/modules/generated/sklearn.linear_model.LinearRegression.html\n",
        "\n",
        "https://scikit-learn.org/stable/modules/generated/sklearn.linear_model.Lasso.html\n",
        "\n",
        "https://scikit-learn.org/stable/modules/generated/sklearn.linear_model.Ridge.html\n",
        "\n",
        "https://scikit-learn.org/stable/modules/generated/sklearn.linear_model.ElasticNet.html"
      ]
    },
    {
      "cell_type": "markdown",
      "metadata": {
        "id": "9a-164R6NP0l"
      },
      "source": [
        "d) Ajuste modelos, escolhendo os hiperparâmetros a priori, através das funções `LinearRegression`, `Lasso`, `Ridge` e `ElasticNet`. Compare os resultados para os $\\boldsymbol{\\beta}$ obtidos."
      ]
    },
    {
      "cell_type": "markdown",
      "metadata": {
        "id": "UD0lBFhEQTSO"
      },
      "source": [
        "e) Faça as previsões com os modelos treinados acima no conjunto de teste, e calcule o MSE. Calcule também o MSE para o conjunto de treinamento."
      ]
    },
    {
      "cell_type": "markdown",
      "metadata": {},
      "source": [
        "## Parte 2"
      ]
    },
    {
      "cell_type": "markdown",
      "metadata": {
        "id": "q1x8rzVOiHCa"
      },
      "source": [
        "f) Agora, vamos encontrar o \"melhor\" valor do hiperparâmetro referente às penalizações acima e repetir as comparações que realizamos. Para isso, primeiramente, familiarize-se com a função `GridSearchCV`, lendo a sua documentação aqui: https://scikit-learn.org/stable/modules/generated/sklearn.model_selection.GridSearchCV.html."
      ]
    },
    {
      "cell_type": "markdown",
      "metadata": {
        "id": "lUY4TY4qiOFl"
      },
      "source": [
        "g) Implemente a busca em grade da função `GridSearchCV` para o `Lasso`, `Ridge` e `ElasticNet` e encontre os hiperparâmetros ótimos, dentro da grade que você definiu."
      ]
    },
    {
      "cell_type": "markdown",
      "metadata": {
        "id": "aiQqDxtqicvC"
      },
      "source": [
        "h) Compare os $\\boldsymbol{\\beta}$ obtidos com esses procedimentos com os $\\boldsymbol{\\beta}$ obtidos anteriormente."
      ]
    },
    {
      "cell_type": "markdown",
      "metadata": {
        "id": "VtxjDh6hinJn"
      },
      "source": [
        "i) Faça as previsões com os novos modelos no conjunto de teste, e calcule o MSE. Calcule também o MSE para o conjunto de treinamento. Compare com o resultado obtido no item e)."
      ]
    }
  ],
  "metadata": {
    "colab": {
      "provenance": []
    },
    "kernelspec": {
      "display_name": "Python 3",
      "name": "python3"
    },
    "language_info": {
      "name": "python"
    }
  },
  "nbformat": 4,
  "nbformat_minor": 0
}
