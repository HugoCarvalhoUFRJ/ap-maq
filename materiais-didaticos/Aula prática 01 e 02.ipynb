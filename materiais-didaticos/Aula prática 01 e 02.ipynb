{
  "cells": [
    {
      "cell_type": "markdown",
      "metadata": {
        "id": "2YxFq78bAXHc"
      },
      "source": [
        "# Aprendizagem de Máquina I\n",
        "\n",
        "## Hugo Tremonte de Carvalho\n",
        "\n",
        "#### hugo@dme.ufrj.br"
      ]
    },
    {
      "cell_type": "markdown",
      "metadata": {
        "id": "SCuB_uCkFqd1"
      },
      "source": [
        "Esta aula é inspirada no Ex. 10 do Cap. 6 de [ITSL], e tem como objetivo estudar, em dados sintéticos, o comportamento dos procedimentos de seleção de modelos que vimos em sala (Lasso, Ridge e Elastic Net)."
      ]
    },
    {
      "cell_type": "markdown",
      "metadata": {},
      "source": [
        "## Parte 1"
      ]
    },
    {
      "cell_type": "markdown",
      "metadata": {
        "id": "4oeRHuJBGMXj"
      },
      "source": [
        "a) Gere um conjunto de dados $\\mathbf{X}$ com $p = 20$ atributos e $n = 1.000$ observações. Após isso, gere um vetor de variáveis respostas de acordo com a equação $$\\mathbf{Y} = \\mathbf{X}\\boldsymbol{\\beta} + \\varepsilon,$$ onde o vetor $\\boldsymbol{\\beta}$ contém a maioria das entradas iguais a zero."
      ]
    },
    {
      "cell_type": "code",
      "execution_count": null,
      "metadata": {
        "id": "yi-MAltri6sj"
      },
      "outputs": [],
      "source": [
        "import numpy as np\n",
        "import matplotlib.pyplot as plt\n",
        "import pandas as pd\n",
        "\n",
        "from sklearn.metrics import mean_squared_error as MSE\n",
        "from sklearn.model_selection import train_test_split, GridSearchCV\n",
        "from sklearn.linear_model import LinearRegression, Ridge, Lasso, ElasticNet"
      ]
    },
    {
      "cell_type": "code",
      "execution_count": null,
      "metadata": {
        "id": "_xke7YkkizX0"
      },
      "outputs": [],
      "source": [
        "n = 1000\n",
        "p = 20\n",
        "dom_range = 10\n",
        "err_stdv = 100\n",
        "\n",
        "X = dom_range*np.random.random(size = (n, p))\n",
        "epsl = np.random.normal(loc = 0, scale = err_stdv, size = n)\n",
        "beta = np.array([0, 0, 0, 8, 0, -1, 0, 0, 0, 0, -3, 0, 7, 0, 18, 0, 0, 5, 0, -15])\n",
        "y = X@beta + epsl"
      ]
    },
    {
      "cell_type": "code",
      "execution_count": null,
      "metadata": {
        "id": "_GM0fN30i9jH"
      },
      "outputs": [],
      "source": [
        "plt.scatter(X[:,3], y)"
      ]
    },
    {
      "cell_type": "markdown",
      "metadata": {
        "id": "cebFZgnhKNFI"
      },
      "source": [
        "b) Divida seu conjunto em treinamento e teste, com proporção de 90% e 10%, respectivamente."
      ]
    },
    {
      "cell_type": "code",
      "execution_count": null,
      "metadata": {
        "id": "Rs_d4pKcjFi3"
      },
      "outputs": [],
      "source": [
        "X_tr, X_te, y_tr, y_te = train_test_split(X, y, test_size = 0.1)"
      ]
    },
    {
      "cell_type": "markdown",
      "metadata": {
        "id": "FFOqVMJwL3Xf"
      },
      "source": [
        "c) Estude o *help* das funções `LinearRegression`, `Lasso`, `Ridge` e `ElasticNet` do `scikit-learn`.\n",
        "\n",
        "https://scikit-learn.org/stable/modules/generated/sklearn.linear_model.LinearRegression.html\n",
        "\n",
        "https://scikit-learn.org/stable/modules/generated/sklearn.linear_model.Lasso.html\n",
        "\n",
        "https://scikit-learn.org/stable/modules/generated/sklearn.linear_model.Ridge.html\n",
        "\n",
        "https://scikit-learn.org/stable/modules/generated/sklearn.linear_model.ElasticNet.html"
      ]
    },
    {
      "cell_type": "markdown",
      "metadata": {
        "id": "9a-164R6NP0l"
      },
      "source": [
        "d) Ajuste modelos, escolhendo os hiperparâmetros a priori, através das funções `LinearRegression`, `Lasso`, `Ridge` e `ElasticNet`. Compare os resultados para os $\\boldsymbol{\\beta}$ obtidos."
      ]
    },
    {
      "cell_type": "code",
      "execution_count": null,
      "metadata": {
        "id": "hb458K9WjY_q"
      },
      "outputs": [],
      "source": [
        "LinReg = LinearRegression()\n",
        "Las = Lasso()\n",
        "Rid = Ridge()\n",
        "ElaNet = ElasticNet()"
      ]
    },
    {
      "cell_type": "code",
      "execution_count": null,
      "metadata": {
        "id": "JD8zxBR0jbfl"
      },
      "outputs": [],
      "source": [
        "LinReg.fit(X_tr, y_tr)\n",
        "Las.fit(X_tr, y_tr)\n",
        "Rid.fit(X_tr, y_tr)\n",
        "ElaNet.fit(X_tr, y_tr)"
      ]
    },
    {
      "cell_type": "code",
      "execution_count": null,
      "metadata": {
        "id": "Pbwz2P4ojd9n"
      },
      "outputs": [],
      "source": [
        "fig, ax = plt.subplots(figsize = (15,10))\n",
        "plt.stem(beta, markerfmt = 'kx', label = 'Verdadeiro')\n",
        "plt.stem(LinReg.coef_, markerfmt = 'b*', label = 'LinReg')\n",
        "plt.stem(Las.coef_, markerfmt = 'cd', label = 'Lasso')\n",
        "plt.stem(Rid.coef_, markerfmt = 'gp', label = 'Ridge')\n",
        "plt.stem(ElaNet.coef_, markerfmt = 'm.', label = 'ElasticNet')\n",
        "plt.legend()"
      ]
    },
    {
      "cell_type": "markdown",
      "metadata": {
        "id": "UD0lBFhEQTSO"
      },
      "source": [
        "e) Faça as previsões com os modelos treinados acima no conjunto de teste, e calcule o MSE. Calcule também o MSE para o conjunto de treinamento."
      ]
    },
    {
      "cell_type": "code",
      "execution_count": null,
      "metadata": {
        "id": "jSoTUdXQkatN"
      },
      "outputs": [],
      "source": [
        "y_tr_pred_LinReg = LinReg.predict(X_tr)\n",
        "y_tr_pred_Las = Las.predict(X_tr)\n",
        "y_tr_pred_Rid = Rid.predict(X_tr)\n",
        "y_tr_pred_ElaNet = ElaNet.predict(X_tr)\n",
        "\n",
        "y_te_pred_LinReg = LinReg.predict(X_te)\n",
        "y_te_pred_Las = Las.predict(X_te)\n",
        "y_te_pred_Rid = Rid.predict(X_te)\n",
        "y_te_pred_ElaNet = ElaNet.predict(X_te)"
      ]
    },
    {
      "cell_type": "code",
      "execution_count": null,
      "metadata": {
        "id": "YDE-BdZUkev_"
      },
      "outputs": [],
      "source": [
        "MSE_tr_LinReg = MSE(y_tr_pred_LinReg, y_tr)\n",
        "MSE_tr_Las = MSE(y_tr_pred_Las, y_tr)\n",
        "MSE_tr_Rid = MSE(y_tr_pred_Rid, y_tr)\n",
        "MSE_tr_ElaNet = MSE(y_tr_pred_ElaNet, y_tr)\n",
        "\n",
        "MSE_te_LinReg = MSE(y_te_pred_LinReg, y_te)\n",
        "MSE_te_Las = MSE(y_te_pred_Las, y_te)\n",
        "MSE_te_Rid = MSE(y_te_pred_Rid, y_te)\n",
        "MSE_te_ElaNet = MSE(y_te_pred_ElaNet, y_te)"
      ]
    },
    {
      "cell_type": "code",
      "execution_count": null,
      "metadata": {
        "id": "iS7sSAo5kkiT"
      },
      "outputs": [],
      "source": [
        "print(MSE_tr_LinReg)\n",
        "print(MSE_tr_Las)\n",
        "print(MSE_tr_Rid)\n",
        "print(MSE_tr_ElaNet)"
      ]
    },
    {
      "cell_type": "code",
      "execution_count": null,
      "metadata": {
        "id": "i8pVvKvGknPM"
      },
      "outputs": [],
      "source": [
        "print(MSE_te_LinReg)\n",
        "print(MSE_te_Las)\n",
        "print(MSE_te_Rid)\n",
        "print(MSE_te_ElaNet)"
      ]
    },
    {
      "cell_type": "markdown",
      "metadata": {},
      "source": [
        "## Parte 2"
      ]
    },
    {
      "cell_type": "markdown",
      "metadata": {
        "id": "q1x8rzVOiHCa"
      },
      "source": [
        "f) Agora, vamos encontrar o \"melhor\" valor do hiperparâmetro referente às penalizações acima e repetir as comparações que realizamos. Para isso, primeiramente, familiarize-se com a função `GridSearchCV`, lendo a sua documentação aqui: https://scikit-learn.org/stable/modules/generated/sklearn.model_selection.GridSearchCV.html."
      ]
    },
    {
      "cell_type": "markdown",
      "metadata": {
        "id": "lUY4TY4qiOFl"
      },
      "source": [
        "g) Implemente a busca em grade da função `GridSearchCV` para o `Lasso`, `Ridge` e `ElasticNet` e encontre os hiperparâmetros ótimos, dentro da grade que você definiu."
      ]
    },
    {
      "cell_type": "markdown",
      "metadata": {
        "id": "aiQqDxtqicvC"
      },
      "source": [
        "h) Compare os $\\boldsymbol{\\beta}$ obtidos com esses procedimentos com os $\\boldsymbol{\\beta}$ obtidos anteriormente."
      ]
    },
    {
      "cell_type": "markdown",
      "metadata": {
        "id": "VtxjDh6hinJn"
      },
      "source": [
        "i) Faça as previsões com os novos modelos no conjunto de teste, e calcule o MSE. Calcule também o MSE para o conjunto de treinamento. Compare com o resultado obtido no item e)."
      ]
    }
  ],
  "metadata": {
    "colab": {
      "provenance": []
    },
    "kernelspec": {
      "display_name": "Python 3",
      "name": "python3"
    },
    "language_info": {
      "name": "python"
    }
  },
  "nbformat": 4,
  "nbformat_minor": 0
}
